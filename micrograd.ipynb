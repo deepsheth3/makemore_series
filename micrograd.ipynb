{
 "cells": [
  {
   "cell_type": "code",
   "execution_count": 120,
   "metadata": {},
   "outputs": [],
   "source": [
    "import math \n",
    "import numpy as np\n",
    "import matplotlib.pyplot as plt\n",
    "import random\n",
    "%matplotlib inline"
   ]
  },
  {
   "cell_type": "code",
   "execution_count": 121,
   "metadata": {},
   "outputs": [],
   "source": [
    "class Value:\n",
    "\n",
    "    def __init__(self,data,_clildren=(),_op='',label=''):\n",
    "        self.data = data\n",
    "        self.grad = 0\n",
    "        self._backward = lambda: None\n",
    "        self.label = label\n",
    "        self._prev = set(_clildren)\n",
    "        self._op = _op\n",
    "\n",
    "    def __repr__(self):\n",
    "        return f'Value(data={self.data})'\n",
    "    \n",
    "    def __add__(self,other):\n",
    "        other = other if isinstance(other,Value) else Value(other)\n",
    "        out = Value(self.data + other.data, (self,other), '+')\n",
    "        def _backward():\n",
    "            self.grad += 1 * out.grad\n",
    "            other.grad += 1 * out.grad\n",
    "        out._backward = _backward\n",
    "        return out\n",
    "    \n",
    "    def __mul__(self,other):\n",
    "        other = other if isinstance(other,Value) else Value(other)\n",
    "        out = Value(self.data * other.data, (self,other), '*')\n",
    "        def _backward():\n",
    "            self.grad += other.data * out.grad\n",
    "            other.grad += self.data * out.grad\n",
    "        out._backward = _backward\n",
    "        return out\n",
    "    \n",
    "    def __rmul__(self,other):\n",
    "        return self*other\n",
    "    \n",
    "    def __truediv__(self,other):\n",
    "        return self * (other**-1)\n",
    "    \n",
    "    def __pow__(self,other):\n",
    "        assert isinstance(other, (int,float))\n",
    "        out = Value(self.data**other, (self,),f'**{other}')\n",
    "        def _backward():\n",
    "            self.grad = other * self.data**(other-1) * out.grad\n",
    "        out._backward = _backward\n",
    "        return out\n",
    "    \n",
    "    def __sub__(self,other):\n",
    "        return self + (-other)\n",
    "    \n",
    "    def __radd__(self, other): # other + self\n",
    "        return self + other\n",
    "\n",
    "    def tanh(self):\n",
    "        x = self.data\n",
    "        t = (math.exp(2*x) -1)/(math.exp(2*x)+1)\n",
    "        out = Value(t,(self,),'tanh')\n",
    "        def _backward():\n",
    "            self.grad = (1- t**2) * out.grad\n",
    "        out._backward = _backward\n",
    "        return out\n",
    "    \n",
    "    def exp(self):\n",
    "        x = self.data\n",
    "        e = (math.exp(x))\n",
    "        out = Value(e,(self,),'exp')\n",
    "        def _backward():\n",
    "            self.grad += out.data * out.grad\n",
    "        out._backward = _backward\n",
    "        return out\n",
    "\n",
    "    def backward(self):\n",
    "        self.grad = 1\n",
    "        topo = []\n",
    "        visited = set()\n",
    "\n",
    "        def build_topo(v):\n",
    "            if v not in visited:\n",
    "                visited.add(v)\n",
    "                for child in v._prev:\n",
    "                    build_topo(child)\n",
    "                topo.append(v)\n",
    "            return topo\n",
    "        build_topo(self)\n",
    "        for node in reversed(topo):\n",
    "            node._backward()\n",
    "    "
   ]
  },
  {
   "cell_type": "code",
   "execution_count": 122,
   "metadata": {},
   "outputs": [],
   "source": [
    "# x1 = Value(2,label='x1')\n",
    "# x2 = Value(0,label='x2')\n",
    "\n",
    "# w1 = Value(-3,label='w1')\n",
    "# w2 = Value(1,label='w2')\n",
    "\n",
    "# b = Value(6.8814)\n",
    "\n",
    "# x1w1 = x1*w1; x1w1.label = 'x1w1'\n",
    "# x2w2 = x2*w2; x2w2.label = 'x2w2'\n",
    "\n",
    "# x1w1x2w2 = x1w1 + x2w2; x1w1x2w2.label = 'x1w1 + x2w2'\n",
    "\n",
    "# n = x1w1x2w2 + b; n.label= 'n'\n",
    "# o = n.tanh(); o.label = 'tanh'\n"
   ]
  },
  {
   "cell_type": "code",
   "execution_count": 123,
   "metadata": {},
   "outputs": [],
   "source": [
    "# o.backward()"
   ]
  },
  {
   "cell_type": "code",
   "execution_count": 124,
   "metadata": {},
   "outputs": [],
   "source": [
    "# from graphviz import Digraph\n",
    "\n",
    "# def trace(root):\n",
    "#   # builds a set of all nodes and edges in a graph\n",
    "#   nodes, edges = set(), set()\n",
    "#   def build(v):\n",
    "#     if v not in nodes:\n",
    "#       nodes.add(v)\n",
    "#       for child in v._prev:\n",
    "#         edges.add((child, v))\n",
    "#         build(child)\n",
    "#   build(root)\n",
    "#   return nodes, edges\n",
    "\n",
    "# def draw_dot(root):\n",
    "#   dot = Digraph(format='svg', graph_attr={'rankdir': 'LR'}) # LR = left to right\n",
    "  \n",
    "#   nodes, edges = trace(root)\n",
    "#   for n in nodes:\n",
    "#     uid = str(id(n))\n",
    "#     # for any value in the graph, create a rectangular ('record') node for it\n",
    "#     dot.node(name = uid, label = \"{ %s | data %.4f | grad %.4f }\" % (n.label, n.data, n.grad), shape='record')\n",
    "#     if n._op:\n",
    "#       # if this value is a result of some operation, create an op node for it\n",
    "#       dot.node(name = uid + n._op, label = n._op)\n",
    "#       # and connect this node to it\n",
    "#       dot.edge(uid + n._op, uid)\n",
    "\n",
    "#   for n1, n2 in edges:\n",
    "#     # connect n1 to the op node of n2\n",
    "#     dot.edge(str(id(n1)), str(id(n2)) + n2._op)\n",
    "\n",
    "#   return dot"
   ]
  },
  {
   "cell_type": "code",
   "execution_count": 125,
   "metadata": {},
   "outputs": [],
   "source": [
    "class Neuron:\n",
    "    def __init__(self,nin):\n",
    "        self.w = [Value(random.uniform(-1,1)) for _ in range(nin)]\n",
    "        self.b = Value(random.uniform(-1,1))\n",
    "    def __call__(self,x):\n",
    "        act = sum((wi* xi for wi,xi in zip(self.w,x)), self.b)\n",
    "        out = act.tanh()\n",
    "        return out\n",
    "    def parameters(self):\n",
    "        return self.w + [self.b]"
   ]
  },
  {
   "cell_type": "code",
   "execution_count": 126,
   "metadata": {},
   "outputs": [],
   "source": [
    "class Layer:\n",
    "    def __init__(self,nin, nout):\n",
    "        self.neurons = [Neuron(nin) for _ in range(nout)]\n",
    "    def __call__(self,x):\n",
    "        out = [n(x) for n in self.neurons]\n",
    "        return out[0] if len(out)==1 else out\n",
    "    def parameters(self):\n",
    "        return [p for neuron in self.neurons for p in neuron.parameters()]"
   ]
  },
  {
   "cell_type": "code",
   "execution_count": 127,
   "metadata": {},
   "outputs": [],
   "source": [
    "class MLP:\n",
    "    def __init__(self,nin,nouts):\n",
    "        sz = [nin] + nouts\n",
    "        self.layers = [Layer(sz[i],sz[i+1]) for i in range(len(nouts))]\n",
    "    def __call__(self,x):\n",
    "        for layer in self.layers:\n",
    "            x = layer(x)\n",
    "        return x\n",
    "    def parameters(self):\n",
    "        return [p for layer in self.layers for p in layer.parameters()]"
   ]
  },
  {
   "cell_type": "code",
   "execution_count": 135,
   "metadata": {},
   "outputs": [],
   "source": [
    "n = MLP(3,[4,4,1])"
   ]
  },
  {
   "cell_type": "code",
   "execution_count": 136,
   "metadata": {},
   "outputs": [],
   "source": [
    "xs = [[2,-3,0],\n",
    "      [-1,1,5,1],\n",
    "      [0.5,2.5,1.5],\n",
    "      [1,2,-0.5]]\n",
    "\n",
    "ys = [1,-1,-1,1]"
   ]
  },
  {
   "cell_type": "code",
   "execution_count": 137,
   "metadata": {},
   "outputs": [
    {
     "name": "stdout",
     "output_type": "stream",
     "text": [
      "6.081498336035429\n",
      "3.664158200908692\n",
      "2.6975700944410272\n",
      "2.406272235977596\n",
      "2.036897355654713\n",
      "1.5562971411276125\n",
      "1.0533068671692984\n",
      "0.7297970368368265\n",
      "0.5401565636896661\n",
      "0.4035490008703062\n",
      "0.21247996928026075\n",
      "0.15165410603241958\n",
      "0.12625948927741237\n",
      "0.10771690778533427\n",
      "0.09354128544565099\n",
      "0.08240243256321977\n",
      "0.07345088361289026\n",
      "0.06612059321475527\n",
      "0.06002148937847932\n",
      "0.054876965447030766\n"
     ]
    }
   ],
   "source": [
    "for _ in range(20):\n",
    "    ypred = [n(x) for x in xs]\n",
    "    loss = sum((yout - ygt)**2 for ygt, yout in zip(ys, ypred))\n",
    "    for p in n.parameters():\n",
    "        p.grad = 0.0\n",
    "    loss.backward()\n",
    "    for p in n.parameters():\n",
    "        p.data -= 0.1*p.grad\n",
    "    print(loss.data)"
   ]
  },
  {
   "cell_type": "code",
   "execution_count": 138,
   "metadata": {},
   "outputs": [
    {
     "data": {
      "text/plain": [
       "[Value(data=0.9843621094221031),\n",
       " Value(data=-0.8991496632333286),\n",
       " Value(data=-0.8706029632791225),\n",
       " Value(data=0.8335126482665746)]"
      ]
     },
     "execution_count": 138,
     "metadata": {},
     "output_type": "execute_result"
    }
   ],
   "source": [
    "ypred"
   ]
  },
  {
   "cell_type": "code",
   "execution_count": 139,
   "metadata": {},
   "outputs": [
    {
     "name": "stdout",
     "output_type": "stream",
     "text": [
      "1\n",
      "-1\n",
      "-1\n",
      "1\n"
     ]
    }
   ],
   "source": [
    "for data in ypred:\n",
    "    if data.data < 0:\n",
    "        data.data = -1 \n",
    "    else:\n",
    "        data.data = 1\n",
    "    print(data.data)"
   ]
  },
  {
   "cell_type": "code",
   "execution_count": null,
   "metadata": {},
   "outputs": [],
   "source": []
  }
 ],
 "metadata": {
  "kernelspec": {
   "display_name": "Python 3",
   "language": "python",
   "name": "python3"
  },
  "language_info": {
   "codemirror_mode": {
    "name": "ipython",
    "version": 3
   },
   "file_extension": ".py",
   "mimetype": "text/x-python",
   "name": "python",
   "nbconvert_exporter": "python",
   "pygments_lexer": "ipython3",
   "version": "3.11.0"
  }
 },
 "nbformat": 4,
 "nbformat_minor": 2
}
